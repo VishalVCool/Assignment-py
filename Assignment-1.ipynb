{
 "cells": [
  {
   "cell_type": "markdown",
   "metadata": {},
   "source": [
    "# Q1.> Try 5 Different functions of the String in Python.\n",
    "# Ans."
   ]
  },
  {
   "cell_type": "code",
   "execution_count": 2,
   "metadata": {},
   "outputs": [
    {
     "name": "stdout",
     "output_type": "stream",
     "text": [
      "Original string: Let us do this\n",
      "Translated string: Let u d ti\n"
     ]
    }
   ],
   "source": [
    "# No. 1 >\n",
    "#Translate String\n",
    "S1 = \"Jack\"\n",
    "S2 = \"back\"\n",
    "S3 = \"Josh\"\n",
    "\n",
    "string = \"Let us do this\"\n",
    "print(\"Original string:\", string)\n",
    "\n",
    "translation = string.maketrans(S1, S2, S3)\n",
    "\n",
    "print(\"Translated string:\", string.translate(translation))"
   ]
  },
  {
   "cell_type": "code",
   "execution_count": 3,
   "metadata": {},
   "outputs": [
    {
     "name": "stdout",
     "output_type": "stream",
     "text": [
      "Batman\n"
     ]
    }
   ],
   "source": [
    "# No. 2 >\n",
    "#Replace String\n",
    "name = \"Superman\"\n",
    "\n",
    "print(name.replace('Superman', 'Batman'))"
   ]
  },
  {
   "cell_type": "code",
   "execution_count": 4,
   "metadata": {},
   "outputs": [
    {
     "name": "stdout",
     "output_type": "stream",
     "text": [
      "The count is: 2\n"
     ]
    }
   ],
   "source": [
    "# No. 3 >\n",
    "#Count String\n",
    "title = \"We are here for testing command\"\n",
    "substring = \"m\"\n",
    "\n",
    "count = title.count(substring)\n",
    "\n",
    "print(\"The count is:\", count)"
   ]
  },
  {
   "cell_type": "code",
   "execution_count": 5,
   "metadata": {},
   "outputs": [
    {
     "name": "stdout",
     "output_type": "stream",
     "text": [
      "Red\n"
     ]
    }
   ],
   "source": [
    "# No. 4 >\n",
    "#Capitalize String\n",
    "car = \"red\"\n",
    "result = car.capitalize()\n",
    "print(result)"
   ]
  },
  {
   "cell_type": "code",
   "execution_count": 17,
   "metadata": {},
   "outputs": [
    {
     "name": "stdout",
     "output_type": "stream",
     "text": [
      "True\n",
      "False\n"
     ]
    }
   ],
   "source": [
    "# No. 5 >\n",
    "#isdigit String\n",
    "#if there exists a number then it shows true and if not then shows false\n",
    "year = \"2021\"\n",
    "print(year.isdigit())\n",
    "\n",
    "day = \"Monday\"\n",
    "print(day.isdigit())"
   ]
  },
  {
   "cell_type": "code",
   "execution_count": null,
   "metadata": {},
   "outputs": [],
   "source": []
  },
  {
   "cell_type": "code",
   "execution_count": null,
   "metadata": {},
   "outputs": [],
   "source": []
  },
  {
   "cell_type": "markdown",
   "metadata": {},
   "source": [
    "#Q.2> Try 5 Different functions of the List object in Python\n",
    "#Ans.\n"
   ]
  },
  {
   "cell_type": "code",
   "execution_count": 7,
   "metadata": {},
   "outputs": [
    {
     "name": "stdout",
     "output_type": "stream",
     "text": [
      "Name ['ino', 'Shika', 'cho']\n"
     ]
    }
   ],
   "source": [
    "# No.1.>\n",
    "Name = [\"ino\" , \"Shika\" , \"cho\"]\n",
    "print(\"Name\", Name)"
   ]
  },
  {
   "cell_type": "code",
   "execution_count": 8,
   "metadata": {},
   "outputs": [
    {
     "name": "stdout",
     "output_type": "stream",
     "text": [
      "Append list ['2020', 'December']\n"
     ]
    }
   ],
   "source": [
    "# No. 2.> \n",
    "#List append Command\n",
    "list = [\"2020\"]\n",
    "list.append(\"December\")\n",
    "print(\"Append list\" , list)"
   ]
  },
  {
   "cell_type": "code",
   "execution_count": 9,
   "metadata": {},
   "outputs": [
    {
     "name": "stdout",
     "output_type": "stream",
     "text": [
      "Final List ['1', '2', '3', '4', '5', '6']\n"
     ]
    }
   ],
   "source": [
    "# No. 3.>\n",
    "#List Extention\n",
    "List = [\"1\",\"2\", \"3\"]\n",
    "ListExtended = [\"4\", \"5\", \"6\"]\n",
    "List.extend(ListExtended)\n",
    "print(\"Final List\" , List)"
   ]
  },
  {
   "cell_type": "code",
   "execution_count": 10,
   "metadata": {},
   "outputs": [
    {
     "name": "stdout",
     "output_type": "stream",
     "text": [
      "Update ['First', 'Center', 'End']\n"
     ]
    }
   ],
   "source": [
    "# No. 4.>\n",
    "#Inserting List\n",
    "place = [\"First\", \"End\"]\n",
    "place.insert(1 , \"Center\")\n",
    "print(\"Update\" , place)"
   ]
  },
  {
   "cell_type": "code",
   "execution_count": 11,
   "metadata": {},
   "outputs": [
    {
     "name": "stdout",
     "output_type": "stream",
     "text": [
      "Friends Left ['Ino', 'Cho']\n"
     ]
    }
   ],
   "source": [
    "#No.5>\n",
    "#List Removing\n",
    "Friends = [\"Ino\" , \"Shika\" , \"Cho\"]\n",
    "Friends.remove(\"Shika\")\n",
    "print(\"Friends Left\" , Friends)\n"
   ]
  },
  {
   "cell_type": "code",
   "execution_count": null,
   "metadata": {},
   "outputs": [],
   "source": []
  },
  {
   "cell_type": "code",
   "execution_count": null,
   "metadata": {},
   "outputs": [],
   "source": []
  },
  {
   "cell_type": "markdown",
   "metadata": {},
   "source": [
    "#Q.3> Experiment with at least 5 default functions of Dictionary\n",
    "Ans."
   ]
  },
  {
   "cell_type": "code",
   "execution_count": 12,
   "metadata": {},
   "outputs": [
    {
     "name": "stdout",
     "output_type": "stream",
     "text": [
      "data = {}\n"
     ]
    }
   ],
   "source": [
    "#No.1>\n",
    "#clear\n",
    "data = {1:\"This is the data, which is going to be deleted\"}\n",
    "data.clear()\n",
    "print(\"data =\"  , data)"
   ]
  },
  {
   "cell_type": "code",
   "execution_count": 13,
   "metadata": {},
   "outputs": [
    {
     "name": "stdout",
     "output_type": "stream",
     "text": [
      "Name: Ino\n",
      "Address: London\n",
      "Mobile#: 123\n"
     ]
    }
   ],
   "source": [
    "#No.2>\n",
    "#Get Dictionary\n",
    "\n",
    "details = {'name': 'Ino', 'blood type': 'A', 'address': 'London', 'mobile': '123' }\n",
    "\n",
    "print('Name:'   , details.get('name'   ))\n",
    "print('Address:', details.get('address'))\n",
    "print('Mobile#:', details.get('mobile' ))"
   ]
  },
  {
   "cell_type": "code",
   "execution_count": 14,
   "metadata": {},
   "outputs": [
    {
     "name": "stdout",
     "output_type": "stream",
     "text": [
      "Orignal:  {1: 'one', 2: 'two', 3: 'three'}\n",
      "Copy   :  {1: 'one', 2: 'two', 3: 'three'}\n"
     ]
    }
   ],
   "source": [
    "#No.3>\n",
    "#Copy Dictionary\n",
    "\n",
    "number = {1:'one', 2:'two', 3:'three'}\n",
    "new = number.copy()\n",
    "\n",
    "print('Orignal: ', number)\n",
    "print('Copy   : ', new)"
   ]
  },
  {
   "cell_type": "code",
   "execution_count": 15,
   "metadata": {},
   "outputs": [
    {
     "name": "stdout",
     "output_type": "stream",
     "text": [
      "Details =  {'name': 'Ino', 'class': 'LetsUpgrade', 'subject': 'Python'}\n",
      "Subject =  Python\n"
     ]
    }
   ],
   "source": [
    "#No.4>\n",
    "#Setdefault Dictionary\n",
    "\n",
    "details = {'name': 'Ino', 'class': 'LetsUpgrade', 'subject': 'Python'}\n",
    "\n",
    "subject = details.setdefault('subject')\n",
    "print('Details = ',details)\n",
    "print('Subject = ',subject)"
   ]
  },
  {
   "cell_type": "code",
   "execution_count": 16,
   "metadata": {},
   "outputs": [
    {
     "name": "stdout",
     "output_type": "stream",
     "text": [
      "{1: 'one', 2: 'two'}\n"
     ]
    }
   ],
   "source": [
    "#No.5>\n",
    "#Update Dictionary\n",
    "\n",
    "n = {1: \"one\", 2: \"three\"}\n",
    "n1 = {2: \"two\"}\n",
    "\n",
    "#update the value of key 2\n",
    "n.update(n1)\n",
    "print(n)\n",
    "\n"
   ]
  }
 ],
 "metadata": {
  "kernelspec": {
   "display_name": "Python 3",
   "language": "python",
   "name": "python3"
  },
  "language_info": {
   "codemirror_mode": {
    "name": "ipython",
    "version": 3
   },
   "file_extension": ".py",
   "mimetype": "text/x-python",
   "name": "python",
   "nbconvert_exporter": "python",
   "pygments_lexer": "ipython3",
   "version": "3.8.5"
  }
 },
 "nbformat": 4,
 "nbformat_minor": 4
}
