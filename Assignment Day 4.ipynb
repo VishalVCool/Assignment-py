{
 "cells": [
  {
   "cell_type": "markdown",
   "metadata": {},
   "source": [
    "Q.1> : Write dowa program in python for opening a file and writing and read it back and append some data to it and close it."
   ]
  },
  {
   "cell_type": "code",
   "execution_count": 2,
   "metadata": {},
   "outputs": [
    {
     "name": "stdout",
     "output_type": "stream",
     "text": [
      "Wellcome  everyone\n",
      "Wellcome  everyone Nice to meet you... \n"
     ]
    }
   ],
   "source": [
    "f=open(\"test.txt\",\"w+\")\n",
    "f.write(\"Wellcome  everyone\")\n",
    "f.close()\n",
    "f=open(\"test.txt\", \"r\")\n",
    "c=f.read()\n",
    "print(c)\n",
    "f=open(\"test.txt\", \"a+\")\n",
    "f.write(\" Nice to meet you... \")\n",
    "f=open(\"test.txt\", \"r\")\n",
    "c=f.read()\n",
    "print(c)\n",
    "f.close()"
   ]
  },
  {
   "cell_type": "markdown",
   "metadata": {},
   "source": [
    "Q.2> Write a python function which return list of factorial of a given number:"
   ]
  },
  {
   "cell_type": "code",
   "execution_count": 3,
   "metadata": {},
   "outputs": [
    {
     "name": "stdin",
     "output_type": "stream",
     "text": [
      "Enter a number 12\n"
     ]
    },
    {
     "name": "stdout",
     "output_type": "stream",
     "text": [
      "479001600\n"
     ]
    }
   ],
   "source": [
    "\n",
    "def fact(num):\n",
    "  f=1\n",
    "  for i in range(1,num+1):\n",
    "    f=f*i\n",
    "  return f\n",
    "num=int(input(\"Enter a number\"))\n",
    "res=fact(num)\n",
    "print(res)"
   ]
  },
  {
   "cell_type": "code",
   "execution_count": null,
   "metadata": {},
   "outputs": [],
   "source": []
  }
 ],
 "metadata": {
  "kernelspec": {
   "display_name": "Python 3",
   "language": "python",
   "name": "python3"
  },
  "language_info": {
   "codemirror_mode": {
    "name": "ipython",
    "version": 3
   },
   "file_extension": ".py",
   "mimetype": "text/x-python",
   "name": "python",
   "nbconvert_exporter": "python",
   "pygments_lexer": "ipython3",
   "version": "3.8.5"
  }
 },
 "nbformat": 4,
 "nbformat_minor": 4
}
